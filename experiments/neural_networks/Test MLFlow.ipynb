{
 "cells": [
  {
   "cell_type": "code",
   "execution_count": 6,
   "id": "edefa91d",
   "metadata": {},
   "outputs": [
    {
     "data": {
      "application/vnd.jupyter.widget-view+json": {
       "model_id": "d1f8351977e440f6a61d032944b3b6a5",
       "version_major": 2,
       "version_minor": 0
      },
      "text/plain": [
       "Downloading artifacts:   0%|          | 0/7 [00:00<?, ?it/s]"
      ]
     },
     "metadata": {},
     "output_type": "display_data"
    },
    {
     "name": "stderr",
     "output_type": "stream",
     "text": [
      "Registered model 'diabetes_neural_network' already exists. Creating a new version of this model...\n",
      "Created version '6' of model 'diabetes_neural_network'.\n"
     ]
    },
    {
     "name": "stdout",
     "output_type": "stream",
     "text": [
      "Mean Squared Error: 3836.61\n",
      "Root Mean Squared Error: 61.94\n",
      "Mean Absolute Error: 53.45\n",
      "R² Score: 0.388\n",
      "Mean Absolute Percentage Error: 53.53%\n"
     ]
    }
   ],
   "source": [
    "import mlflow\n",
    "import mlflow.sklearn\n",
    "from mlflow.models import infer_signature\n",
    "from sklearn.model_selection import train_test_split\n",
    "from sklearn.datasets import load_diabetes\n",
    "from sklearn.ensemble import RandomForestRegressor\n",
    "from sklearn.metrics import mean_squared_error, mean_absolute_error, r2_score\n",
    "import numpy as np\n",
    "\n",
    "# Where to save info\n",
    "mlflow.set_tracking_uri(\"file:./mlruns\")\n",
    "\n",
    "# set the experiment id\n",
    "mlflow.set_experiment(\"Diabetes_RF_Test\")\n",
    "\n",
    "#mlflow.autolog()\n",
    "db = load_diabetes()\n",
    "\n",
    "X_train, X_test, y_train, y_test = train_test_split(db.data, db.target)\n",
    "\n",
    "n_estimators = 110\n",
    "max_depth = 3\n",
    "max_features = 2\n",
    "\n",
    "# Start a run\n",
    "with mlflow.start_run():\n",
    "    mlflow.log_param(\"n_estimators\", n_estimators)\n",
    "    mlflow.log_param(\"max_depth\", max_depth)\n",
    "    mlflow.log_param(\"max_features\", max_features)\n",
    "    \n",
    "    # Create and train model\n",
    "    rf = RandomForestRegressor(n_estimators=n_estimators, max_depth=max_depth, max_features=max_features)\n",
    "    rf.fit(X_train, y_train)\n",
    "\n",
    "    # Log model with signature and input example\n",
    "    signature = infer_signature(X_train, rf.predict(X_train))\n",
    "    mlflow.sklearn.log_model(\n",
    "        rf, \n",
    "        name=\"random_forest_model\",\n",
    "        signature=signature,\n",
    "        input_example=X_train[:5],  # First 5 rows as example\n",
    "        registered_model_name=\"diabetes_neural_network\"\n",
    "    )\n",
    "\n",
    "    # Calculate training predictions\n",
    "    training_predictions = rf.predict(X_train)\n",
    "    # Calculate regression metrics\n",
    "    training_mse = mean_squared_error(y_train, training_predictions)\n",
    "    training_rmse = np.sqrt(training_mse)\n",
    "    training_mae = mean_absolute_error(y_train, training_predictions)\n",
    "    training_r2 = r2_score(y_train, training_predictions)\n",
    "    training_mape = np.mean(np.abs((y_train - training_predictions) / y_train)) * 100\n",
    "    \n",
    "    # Make test predictions\n",
    "    predictions = rf.predict(X_test)    \n",
    "    # Calculate regression metrics\n",
    "    mse = mean_squared_error(y_test, predictions)\n",
    "    rmse = np.sqrt(mse)\n",
    "    mae = mean_absolute_error(y_test, predictions)\n",
    "    r2 = r2_score(y_test, predictions)\n",
    "    mape = np.mean(np.abs((y_test - predictions) / y_test)) * 100\n",
    "    \n",
    "    # Log metrics to MLflow\n",
    "    mlflow.log_metric(\"training_mean_squared_error\", round(training_mse, 2))\n",
    "    mlflow.log_metric(\"training_root_mean_squared_error\", round(training_rmse, 2))\n",
    "    mlflow.log_metric(\"training_mean_absolute_error\", round(training_mae, 2))\n",
    "    mlflow.log_metric(\"training_r2_score\", round(training_r2, 2))\n",
    "    mlflow.log_metric(\"training_mape\", round(training_mape,2))\n",
    "    mlflow.log_metric(\"test_mse\", round(mse,2))\n",
    "    mlflow.log_metric(\"test_rmse\", round(rmse,2))\n",
    "    mlflow.log_metric(\"test_mae\", round(mae,2))\n",
    "    mlflow.log_metric(\"test_r2_score\", round(r2,2))\n",
    "    mlflow.log_metric(\"test_mape\", round(mape,2))\n",
    "    \n",
    "    # Print results\n",
    "    print(f\"Mean Squared Error: {mse:.2f}\")\n",
    "    print(f\"Root Mean Squared Error: {rmse:.2f}\")\n",
    "    print(f\"Mean Absolute Error: {mae:.2f}\")\n",
    "    print(f\"R² Score: {r2:.3f}\")\n",
    "    print(f\"Mean Absolute Percentage Error: {mape:.2f}%\")\n"
   ]
  }
 ],
 "metadata": {
  "kernelspec": {
   "display_name": "gtx1060_tf",
   "language": "python",
   "name": "python3"
  },
  "language_info": {
   "codemirror_mode": {
    "name": "ipython",
    "version": 3
   },
   "file_extension": ".py",
   "mimetype": "text/x-python",
   "name": "python",
   "nbconvert_exporter": "python",
   "pygments_lexer": "ipython3",
   "version": "3.10.13"
  }
 },
 "nbformat": 4,
 "nbformat_minor": 5
}
