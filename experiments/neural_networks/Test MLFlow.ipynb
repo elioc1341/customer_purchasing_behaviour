{
 "cells": [
  {
   "cell_type": "code",
   "execution_count": null,
   "id": "edefa91d",
   "metadata": {},
   "outputs": [
    {
     "name": "stderr",
     "output_type": "stream",
     "text": [
      "2025/07/22 20:53:32 INFO mlflow.tracking.fluent: Experiment with name 'Diabetes_RF_Test' does not exist. Creating a new experiment.\n",
      "2025/07/22 20:53:36 INFO mlflow.tracking.fluent: Autologging successfully enabled for sklearn.\n"
     ]
    },
    {
     "name": "stdout",
     "output_type": "stream",
     "text": [
      "MLflow Run ID: 5481b73b843145efb721d363a46f40d6\n"
     ]
    }
   ],
   "source": [
    "import mlflow\n",
    "from sklearn.model_selection import train_test_split\n",
    "from sklearn.datasets import load_diabetes\n",
    "from sklearn.ensemble import RandomForestRegressor\n",
    "\n",
    "# set the experiment id\n",
    "mlflow.set_experiment(\"Diabetes_RF_Test\")\n",
    "\n",
    "mlflow.autolog()\n",
    "db = load_diabetes()\n",
    "\n",
    "X_train, X_test, y_train, y_test = train_test_split(db.data, db.target)\n",
    "\n",
    "n_estimators=100\n",
    "max_depth=6\n",
    "max_features=3\n",
    "\n",
    "with mlflow.start_run():\n",
    "    mlflow.log_param(\"n_estimators\", n_estimators)\n",
    "    mlflow.log_param(\"max_depth\", max_depth)\n",
    "    mlflow.log_param(\"ax_features\", max_features)\n",
    "\n",
    "# Start a run\n",
    "with mlflow.start_run():\n",
    "    mlflow.log_param(\"lr\", lr)\n",
    "    # Create and train model\n",
    "    rf = RandomForestRegressor(n_estimators=n_estimators, max_depth=max_depth, max_features=max_features)\n",
    "    rf.fit(X_train, y_train)\n",
    "\n",
    "    # Make predictions\n",
    "    predictions = rf.predict(X_test)"
   ]
  }
 ],
 "metadata": {
  "kernelspec": {
   "display_name": "gtx1060_tf",
   "language": "python",
   "name": "python3"
  },
  "language_info": {
   "codemirror_mode": {
    "name": "ipython",
    "version": 3
   },
   "file_extension": ".py",
   "mimetype": "text/x-python",
   "name": "python",
   "nbconvert_exporter": "python",
   "pygments_lexer": "ipython3",
   "version": "3.10.13"
  }
 },
 "nbformat": 4,
 "nbformat_minor": 5
}
